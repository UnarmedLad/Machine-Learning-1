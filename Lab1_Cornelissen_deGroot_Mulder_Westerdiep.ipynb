{
 "metadata": {
  "kernelspec": {
   "display_name": "Python 2",
   "language": "python",
   "name": "python2"
  },
  "language_info": {
   "codemirror_mode": {
    "name": "ipython",
    "version": 2
   },
   "file_extension": ".py",
   "mimetype": "text/x-python",
   "name": "python",
   "nbconvert_exporter": "python",
   "pygments_lexer": "ipython2",
   "version": "2.7.10"
  },
  "name": "",
  "signature": "sha256:b0e9281f75eeec4d0ed806b11f917d18022cbad6913de5b3340e15f2dd2e2a84"
 },
 "nbformat": 3,
 "nbformat_minor": 0,
 "worksheets": [
  {
   "cells": [
    {
     "cell_type": "markdown",
     "metadata": {},
     "source": [
      "# Lab 1: Linear Regression and Overfitting\n",
      "\n",
      "### Machine Learning and Pattern Recognition, September 2015\n",
      "\n",
      "* The lab exercises should be made in groups of two or three people.\n",
      "* The deadline is sunday September 20, 23:59.\n",
      "* Assignment should be sent to Philip Versteeg. (p.j.j.p.versteeg@uva.nl) The subject line of your email should be \"\\#lab\\_lastname1\\_lastname2\\_lastname3\".\n",
      "* Put your and your teammates' names in the body of the email\n",
      "* Attach the .IPYNB (IPython Notebook) file containing your code and answers. Naming of the file follows the same rule as the subject line. For example, if the subject line is \"lab01\\_Kingma\\_Hu\", the attached file should be \"lab01\\_Kingma\\_Hu.ipynb\". Only use underscores (\"\\_\") to connect names, otherwise the files cannot be parsed.\n",
      "* Make sure we can run your notebook / scripts!\n",
      "\n",
      "Notes on implementation:\n",
      "\n",
      "* You should write your code and answers in this IPython Notebook: http://ipython.org/notebook.html. If you have problems, please contact me.\n",
      "* Please write your answers right below the questions.\n",
      "* Among the first lines of your notebook should be \"%pylab inline\". This imports all required modules, and your plots will appear inline.\n",
      "* Refer to last week's lab notes, i.e. http://docs.scipy.org/doc/, if you are unsure about what function to use. There are different correct ways to implement each problem!\n",
      "* For this lab, your regression solutions should be in closed form, i.e., should not perform iterative gradient-based optimization but find the exact optimum directly."
     ]
    },
    {
     "cell_type": "markdown",
     "metadata": {},
     "source": [
      "$\\newcommand{\\bPhi}{\\mathbf{\\Phi}}$\n",
      "$\\newcommand{\\bx}{\\mathbf{x}}$\n",
      "$\\newcommand{\\bw}{\\mathbf{w}}$\n",
      "$\\newcommand{\\bt}{\\mathbf{t}}$\n",
      "$\\newcommand{\\by}{\\mathbf{y}}$\n",
      "$\\newcommand{\\bm}{\\mathbf{m}}$\n",
      "$\\newcommand{\\bS}{\\mathbf{S}}$\n",
      "$\\newcommand{\\bI}{\\mathbf{I}}$\n",
      "\n",
      "## Part 1: Polynomial Regression"
     ]
    },
    {
     "cell_type": "markdown",
     "metadata": {},
     "source": [
      "### 1.1. Generate sinusoidal data (5 points)\n",
      "Write a method `gen_sinusoidal(N)` that generates toy data like in fig 1.2 of the MLPR book. The method should have a parameter $N$, and should return $N$-dimensional vectors $\\bx$ and $\\bt$, where $\\bx$ contains evenly spaced values from 0 to (including) 2$\\pi$, and the elements $t_i$ of $\\bt$ are distributed according to:\n",
      "\n",
      "$$t_i \\sim \\mathcal{N}(\\mu_i, \\sigma^2)$$\n",
      "\n",
      "where $x_i$ is the $i$-th elements of $\\bf{x}$, the mean $\\mu_i = sin(x_i)$ and the standard deviation $\\sigma = 0.2$."
     ]
    },
    {
     "cell_type": "code",
     "collapsed": false,
     "input": [
      "%pylab inline\n",
      "\n",
      "def gen_sinusoidal(N, smaller_x = False):\n",
      "    if smaller_x:\n",
      "        x = linspace(0.0, 1, num=N)\n",
      "        t = random.normal(sin(2*pi*x),0.2)\n",
      "        return x, t\n",
      "    else:\n",
      "        x = linspace(0.0, 2*pi, num=N)\n",
      "        t = random.normal(sin(x),0.2)\n",
      "        return x, t"
     ],
     "language": "python",
     "metadata": {},
     "outputs": [
      {
       "output_type": "stream",
       "stream": "stdout",
       "text": [
        "Populating the interactive namespace from numpy and matplotlib\n"
       ]
      }
     ],
     "prompt_number": 16
    },
    {
     "cell_type": "markdown",
     "metadata": {},
     "source": [
      "### 1.2 Polynomial regression (15 points)\n",
      "\n",
      "Write a method `fit_polynomial(x, t, M)` that finds the maximum-likelihood solution of an _unregularized_ $M$-th order polynomial for some dataset `x`. The error function to minimize w.r.t. $\\bw$ is:\n",
      "\n",
      "$E(\\bw) = \\frac{1}{2} (\\bPhi\\bw - \\bt)^T(\\bPhi\\bw - \\bt)$\n",
      "\n",
      "where $\\bPhi$ is the _feature matrix_ (or _design matrix_) as explained in the MLPR book at section 3.1.1, $\\bt$ is the vector of target values. Your method should return a vector $\\bw$ with the maximum-likelihood parameter estimates. "
     ]
    },
    {
     "cell_type": "code",
     "collapsed": false,
     "input": [
      "def fit_polynomial(x, t, M):\n",
      "    Phi = vander(x, M+1)\n",
      "    w = dot(linalg.inv(dot(transpose(Phi),Phi)),transpose(Phi)).dot(t) #equation 3.15 in MLPR\n",
      "    return w"
     ],
     "language": "python",
     "metadata": {},
     "outputs": [],
     "prompt_number": 3
    },
    {
     "cell_type": "markdown",
     "metadata": {},
     "source": [
      "### 1.3 Plot (5 points)\n",
      "Sample a dataset with $N=9$, and fit four polynomials with $M \\in (0, 1, 3, 9)$.\n",
      "For each value of $M$, plot the prediction function, along with the data and the original sine function. The resulting figure should look similar to fig 1.4 of the MLPR book. Note that you can use matplotlib's `plt.pyplot(.)` functionality for creating grids of figures."
     ]
    },
    {
     "cell_type": "code",
     "collapsed": false,
     "input": [
      "(x, t) = gen_sinusoidal(9)\n",
      "\n",
      "for M in [0, 1, 3, 9]:\n",
      "    w = fit_polynomial(x, t, M)\n",
      "    plot(x, t)\n",
      "    x2 = linspace(0.0, 2*pi, num=100)\n",
      "    plot(x2, polyval(w, x2))\n",
      "    show()"
     ],
     "language": "python",
     "metadata": {},
     "outputs": [
      {
       "metadata": {},
       "output_type": "display_data",
       "png": "[encoded data removed]",
       "text": [
        "<matplotlib.figure.Figure at 0x109d738d0>"
       ]
      },
      {
       "metadata": {},
       "output_type": "display_data",
       "png": "[encoded data removed]",
       "text": [
        "<matplotlib.figure.Figure at 0x109eba4d0>"
       ]
      },
      {
       "metadata": {},
       "output_type": "display_data",
       "png": "[encoded data removed]",
       "text": [
        "<matplotlib.figure.Figure at 0x109fc6090>"
       ]
      },
      {
       "metadata": {},
       "output_type": "display_data",
       "png": "[encoded data removed]",
       "text": [
        "<matplotlib.figure.Figure at 0x10a0d0350>"
       ]
      }
     ],
     "prompt_number": 6
    },
    {
     "cell_type": "markdown",
     "metadata": {},
     "source": [
      "### 1.4 Regularized linear regression (10 points)\n",
      "\n",
      "Write a method `fit_polynomial_reg(x, t, M, lamb)` that fits a _regularized_ $M$-th order polynomial to the sinusoidal data, as discussed in the lectures, where `lamb` is the regularization term _lambda_. (Note that 'lambda' cannot be used as a variable name in Python since it has a special meaning). The error function to minimize w.r.t. $\\bw$:\n",
      "\n",
      "$E(\\bw) = \\frac{1}{2} (\\bPhi\\bw - \\bt)^T(\\bPhi\\bw - \\bt) + \\frac{\\lambda}{2} \\mathbf{w}^T \\mathbf{w}$\n",
      "\n",
      "For background, see section 3.1.4 of the MLPR book."
     ]
    },
    {
     "cell_type": "code",
     "collapsed": false,
     "input": [
      "def fit_polynomial_reg( x, t, M, lamb):\n",
      "    Phi = np.fliplr(np.vander(x, M+1))\n",
      "    w = np.dot( np.linalg.inv( np.dot( Phi.T, Phi) + lamb*np.eye(M+1)), np.dot( Phi.T, t))\n",
      "    return w"
     ],
     "language": "python",
     "metadata": {},
     "outputs": [],
     "prompt_number": 7
    },
    {
     "cell_type": "markdown",
     "metadata": {},
     "source": [
      "\n",
      "\n",
      "\n",
      "\n",
      "\n",
      "### 1.5 Model selection by cross-validation (10 points)\n",
      "Use cross-validation to find a good choice of $M$ and $\\lambda$, given a dataset of $N=9$ datapoints generated with `gen_sinusoidal(9)`. You should write a function that tries (loops over) a reasonable range of choices of $M$ and $\\lambda$, and returns the choice with the best cross-validation error. In this case you can use $K=9$ folds, corresponding to _leave-one-out_ crossvalidation.\n",
      "\n",
      "You can let $M \\in (0, 1, ..., 10)$, and let $\\lambda \\in (e^{-10}, e^{-9}, ..., e^{0})$.\n",
      "\n",
      "To get you started, here's a method you can use to generate indices of cross-validation folds."
     ]
    },
    {
     "cell_type": "code",
     "collapsed": false,
     "input": [
      "###van jan: dit is een beetje gepiel met die opgave. shit is lastig.\n",
      "\n",
      "#not using this\n",
      "def kfold_indices(N, k):\n",
      "    all_indices = np.arange(N,dtype=int)\n",
      "    np.random.shuffle(all_indices)\n",
      "    idx = np.floor(np.linspace(0,N,k+1))\n",
      "    train_folds = []\n",
      "    valid_folds = []\n",
      "    for fold in range(k):\n",
      "        valid_indices = all_indices[idx[fold]:idx[fold+1]]\n",
      "        valid_folds.append(valid_indices)\n",
      "        train_folds.append(np.setdiff1d(all_indices, valid_indices))\n",
      "    return train_folds, valid_folds\n",
      "\n",
      "#generate data\n",
      "N = 9\n",
      "Ms = np.arange(0, 11)\n",
      "lambs = np.exp(-np.arange(0,11))[::-1]\n",
      "print Ms, np.log(lambs)\n",
      "x, t = gen_sinusoidal(9, False) #TODO: understand/explain why the hell this works the way it does.\n",
      "\n",
      "#create error 3-dim matrix\n",
      "errs = np.zeros([len(Ms), len(lambs), N])\n",
      "\n",
      "for i, M in enumerate(Ms):\n",
      "    for j, lamb in enumerate(lambs):\n",
      "        for k in range(N):\n",
      "            trainIdx = [l for l in range(N) if l != k] #training set\n",
      "            testIdx = [k] #test set\n",
      "            w = fit_polynomial_reg( x[trainIdx], t[trainIdx], M, lamb)\n",
      "            resy = np.fliplr(np.vander(x[testIdx], M+1)) #predicted y values for test set\n",
      "            errs[i,j,k] = np.sqrt( np.mean( np.square( np.dot( resy, w) - t))) #populate error matrix cell\n",
      "\n",
      "errs_matrix = np.mean(errs,2)\n",
      "print errs_matrix\n",
      "argmin_1d = np.argmin(errs_matrix)\n",
      "idM = argmin_1d // len(lambs)\n",
      "idLamb = argmin_1d % len(lambs)\n",
      "print Ms[idM], np.log(lambs[idLamb])\n",
      "plt.matshow(np.log(errs_matrix))\n",
      "plt.show()"
     ],
     "language": "python",
     "metadata": {},
     "outputs": [
      {
       "output_type": "stream",
       "stream": "stdout",
       "text": [
        "[ 0  1  2  3  4  5  6  7  8  9 10] [-10.  -9.  -8.  -7.  -6.  -5.  -4.  -3.  -2.  -1.   0.]\n",
        "[[  0.70340375   0.70340364   0.70340336   0.70340258   0.70340047\n",
        "    0.70339474   0.70337921   0.70333733   0.70322594   0.70294016\n",
        "    0.70227189]\n",
        " [  0.91605262   0.91604056   0.91600778   0.91591872   0.91567699\n",
        "    0.91502246   0.91326202   0.90861145   0.8968934    0.87066386\n",
        "    0.82561271]\n",
        " [  1.03010016   1.03006257   1.02996049   1.0296836    1.02893538\n",
        "    1.02693361   1.02171907   1.00903136   0.98272424   0.9427818\n",
        "    0.90306241]\n",
        " [  0.9473566    0.94734191   0.94730214   0.94719525   0.9469129\n",
        "    0.94619298   0.94442281   0.93992314   0.92918919   0.91117932\n",
        "    0.8876277 ]\n",
        " [  1.07271658   1.07140752   1.06798396   1.05959659   1.0423264\n",
        "    1.02036566   1.01799697   1.03313061   1.04004649   1.02878113\n",
        "    0.99217234]\n",
        " [  0.96442418   0.96462319   0.96509308   0.9659711    0.9670217\n",
        "    0.96768496   0.96808371   0.97048722   0.98115831   1.00859681\n",
        "    1.05249296]\n",
        " [  1.46527843   1.4201198    1.36200379   1.27165189   1.15968582\n",
        "    1.06788726   1.00717967   0.96863134   0.97691779   1.00079321\n",
        "    0.97773307]\n",
        " [  3.51779811   2.98811264   2.58748603   2.34622852   2.20480526\n",
        "    2.08211291   1.92260614   1.7240942    1.48619974   1.17072389\n",
        "    0.96472395]\n",
        " [  6.54985394   6.30587606   5.94722925   5.45199843   4.832575\n",
        "    4.27961671   3.94891048   3.79582202   3.70022429   3.5168991\n",
        "    3.03112179]\n",
        " [  9.90970251   9.88761229   9.82693069   9.67394097   9.32279385\n",
        "    8.63765712   7.65604728   6.82795953   6.63526014   7.16686988\n",
        "    8.12750025]\n",
        " [ 17.95615359  18.01004245  18.01267344  17.90778485  17.58451231\n",
        "   16.76801536  14.96194663  11.91140937   8.68766909   7.38307743\n",
        "    9.62331334]]"
       ]
      },
      {
       "output_type": "stream",
       "stream": "stdout",
       "text": [
        "\n",
        "0 0.0\n"
       ]
      },
      {
       "metadata": {},
       "output_type": "display_data",
       "png": "[encoded data removed]",
       "text": [
        "<matplotlib.figure.Figure at 0x10a0f1e90>"
       ]
      }
     ],
     "prompt_number": 25
    },
    {
     "cell_type": "markdown",
     "metadata": {},
     "source": [
      "Create a comprehensible plot of the cross-validation error for each choice of $M$ and $\\lambda$. Highlight the best choice. \n",
      "\n",
      "_Question_: Explain over-fitting and underfitting, illuminated by your plot. Explain the relationship with model bias and model variance."
     ]
    },
    {
     "cell_type": "markdown",
     "metadata": {},
     "source": [
      "Answer:"
     ]
    },
    {
     "cell_type": "markdown",
     "metadata": {},
     "source": [
      "### 1.6 Plot best cross-validated fit (5 points)\n",
      "\n",
      "For some dataset with $N = 9$, plot the model with the optimal $M$ and $\\lambda$ according to the cross-validation error, using the method you just wrote. Let the plot make clear which $M$ and $\\lambda$ were found."
     ]
    },
    {
     "cell_type": "code",
     "collapsed": false,
     "input": [],
     "language": "python",
     "metadata": {},
     "outputs": [],
     "prompt_number": null
    },
    {
     "cell_type": "markdown",
     "metadata": {},
     "source": [
      "## Part 2: Bayesian Linear (Polynomial) Regression\n",
      "\n",
      "### 2.1 Sinusoidal data 2 (5 points)\n",
      "\n",
      "Write a function `gen_sinusoidal2(N)` that behaves identically to `gen_sinusoidal(N)` except that the generated values $x_i$ are not linearly spaced, but drawn from a uniform distribution between $0$ and $2 \\pi$."
     ]
    },
    {
     "cell_type": "code",
     "collapsed": false,
     "input": [
      "def gen_sinusoidal2(N, smaller_x = False):\n",
      "    if smaller_x:\n",
      "        x = np.random.uniform(0,1,N)\n",
      "        y = np.sin(2*np.pi*x) + np.random.normal(0, 0.2, N)\n",
      "        return x,y\n",
      "    else:\n",
      "        x = np.random.uniform(0,2*np.pi,N)\n",
      "        y = np.sin(x) + np.random.normal(0, 0.2, N)\n",
      "        return x,y"
     ],
     "language": "python",
     "metadata": {},
     "outputs": [],
     "prompt_number": 29
    },
    {
     "cell_type": "markdown",
     "metadata": {},
     "source": [
      "### 2.2 Compute Posterior (15 points)\n",
      "\n",
      "You're going to implement a Bayesian linear regression model, and fit it to the sinusoidal data. Your regression model has a zero-mean isotropic Gaussian prior over the parameters, governed by a single (scalar) precision parameter $\\alpha$, i.e.:\n",
      "\n",
      "$$p(\\bw \\;|\\; \\alpha) = \\mathcal{N}(\\bw \\;|\\; 0, \\alpha^{-1} \\bI)$$\n",
      "\n",
      "The covariance and mean of the posterior are given by:\n",
      "\n",
      "$$\\bS_N= \\left( \\alpha \\bI + \\beta \\bPhi^T \\bPhi \\right)^{-1} $$\n",
      "$$\\bm_N = \\beta\\; \\bS_N \\bPhi^T \\bt$$\n",
      "\n",
      "where $\\alpha$ is the precision of the predictive distribution, and $\\beta$ is the noise precision. \n",
      "See MLPR chapter 3.3 for background.\n",
      "\n",
      "Write a method `fit_polynomial_bayes(x, t, M, alpha, beta)` that returns the mean $\\bm_N$ and covariance $\\bS_N$ of the posterior for a $M$-th order polynomial, given a dataset, where `x`, `t` and `M` have the same meaning as in question 1.2."
     ]
    },
    {
     "cell_type": "code",
     "collapsed": false,
     "input": [
      "def fit_polynomial_bayes(x, t, M, alpha, beta):\n",
      "    Phi = np.fliplr(np.vander(x, M+1))\n",
      "    S_N = np.linalg.inv(alpha*np.eye(M+1) + beta*np.dot(Phi.T, Phi))\n",
      "    m_N = beta * np.dot( S_N, np.dot( Phi.T, t))\n",
      "    return S_N, m_N"
     ],
     "language": "python",
     "metadata": {},
     "outputs": [],
     "prompt_number": 26
    },
    {
     "cell_type": "markdown",
     "metadata": {},
     "source": [
      "### 2.3 Prediction (10 points)\n",
      "\n",
      "The predictive distribution of Bayesian linear regression is:\n",
      "\n",
      "$$ p(t \\;|\\; \\bx, \\bt, \\alpha, \\beta) = \\mathcal{N}(t \\;|\\; \\bm_N^T \\phi(\\bx), \\sigma_N^2(\\bx))$$\n",
      "\n",
      "$$ \\sigma_N^2 = \\frac{1}{\\beta} + \\phi(\\bx)^T \\bS_N \\phi(\\bx) $$\n",
      "\n",
      "where $\\phi(\\bx)$ are the computed features for a new datapoint $\\bx$, and $t$ is the predicted variable for datapoint $\\bx$. \n",
      "\n",
      "Write a function that `predict_polynomial_bayes(x, m, S, beta)` that returns the predictive mean and variance given a new datapoint `x`, posterior mean `m`, posterior variance `S` and a choice of model variance `beta`."
     ]
    },
    {
     "cell_type": "code",
     "collapsed": false,
     "input": [
      "def predict_polynomial_bayes(x, m, S, beta):\n",
      "    print x, m, S, beta\n",
      "    phix = np.vander([x],S.shape[0]).T\n",
      "    s2_pred = 1.0/beta + np.dot(np.dot(phix.T, S), phix)\n",
      "    m_pred = np.dot(m.T, phix)\n",
      "    return m_pred, s2_pred"
     ],
     "language": "python",
     "metadata": {},
     "outputs": [],
     "prompt_number": 45
    },
    {
     "cell_type": "markdown",
     "metadata": {},
     "source": [
      "### 2.4 Plot predictive distribution (10 points)\n",
      "\n",
      "a) (5 points) Generate 7 datapoints with `gen_sinusoidal2(7)`. Compute the posterior mean and covariance for a Bayesian polynomial regression model with $M=5$, $\\alpha=\\frac{1}{2}$ and $\\beta=\\frac{1}{0.2^2}$.\n",
      "Plot the Bayesian predictive distribution, where you plot (for $x$ between 0 and $2 \\pi$) $t$'s predictive mean and a 1-sigma predictive variance using `plt.fill_between(..., alpha=0.1)` (the alpha argument induces transparency).\n",
      "\n",
      "Include the datapoints in your plot.\n",
      "\n",
      "b) (5 points) For a second plot, draw 100 samples from the parameters' posterior distribution. Each of these samples is a certain choice of parameters for 5-th order polynomial regression. \n",
      "Display each of these 100 polynomials."
     ]
    },
    {
     "cell_type": "code",
     "collapsed": false,
     "input": [
      "x, t = gen_sinusoidal2(7)\n",
      "beta=1.0/(0.2*0.2)\n",
      "S_N, m_N = fit_polynomial_bayes(x, t, M=5, alpha=0.5, beta=beta)\n",
      "print predict_polynomial_bayes(x[0], m_N, S_N, beta)\n",
      "#TODO verder"
     ],
     "language": "python",
     "metadata": {},
     "outputs": [
      {
       "output_type": "stream",
       "stream": "stdout",
       "text": [
        "3.35990158374 [-0.01418931  0.20440135  0.29070928  0.1533301  -0.16729384  0.02615689] [[  2.55124987e-01  -5.30825087e-01   5.73119146e-02   2.03375851e-01\n",
        "   -8.64282877e-02   9.77181018e-03]\n",
        " [ -5.30825087e-01   1.44389845e+00  -5.15921343e-01  -2.59474557e-01\n",
        "    1.51478647e-01  -1.85966984e-02]\n",
        " [  5.73119146e-02  -5.15921343e-01   1.11672083e+00  -7.86203897e-01\n",
        "    2.17930709e-01  -2.07560034e-02]\n",
        " [  2.03375851e-01  -2.59474557e-01  -7.86203897e-01   8.87274672e-01\n",
        "   -2.89880319e-01   2.99731864e-02]\n",
        " [ -8.64282877e-02   1.51478647e-01   2.17930709e-01  -2.89880319e-01\n",
        "    9.85014205e-02  -1.03689224e-02]\n",
        " [  9.77181018e-03  -1.85966984e-02  -2.07560034e-02   2.99731864e-02\n",
        "   -1.03689224e-02   1.10074479e-03]] 25.0\n",
        "(array([ 32.19478995]), array([[ 11351.84653104]]))\n"
       ]
      }
     ],
     "prompt_number": 46
    },
    {
     "cell_type": "markdown",
     "metadata": {},
     "source": [
      "### 2.5 Additional questions (10 points)\n",
      "\n",
      "a) (5 points) Why is $\\beta=\\frac{1}{0.2^2}$ the best choice of $\\beta$ in section 2.4?\n",
      "\n",
      "b) (5 points) In the case of Bayesian linear regression, both the posterior of the parameters $p(\\bw \\;|\\; \\bt, \\alpha, \\beta)$ and the predictive distribution $p(t \\;|\\; \\bw, \\beta)$ are Gaussian. In consequence (and conveniently), $p(t \\;|\\; \\bt, \\alpha, \\beta)$ is also Gaussian (See MLPR section 3.3.2 and homework 2 question 4). This is actually one of the (rare) cases where we can make Bayesian predictions without resorting to approximative methods.\n",
      "\n",
      "Suppose you have to work with some model $p(t\\;|\\;x,\\bw)$ with parameters $\\bw$, where the posterior distribution $p(\\bw\\;|\\;\\mathcal{D})$ given dataset $\\mathcal{D}$ can not be integrated out when making predictions, but where you can still generate samples from the posterior distribution of the parameters. Explain how you can still make approximate Bayesian predictions using samples from the parameters' posterior distribution."
     ]
    },
    {
     "cell_type": "code",
     "collapsed": false,
     "input": [],
     "language": "python",
     "metadata": {},
     "outputs": [],
     "prompt_number": null
    }
   ],
   "metadata": {}
  }
 ]
}