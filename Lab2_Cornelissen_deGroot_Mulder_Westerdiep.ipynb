{
 "cells": [
  {
   "cell_type": "markdown",
   "metadata": {},
   "source": [
    "# Lab 2: Classification\n",
    "\n",
    "### Machine Learning 1, September 2015\n",
    "\n",
    "* The lab exercises should be made in groups of two, three or four people.\n",
    "* The deadline is October 4th (Sunday) 23:59.\n",
    "* Assignment should be sent to Philip Versteeg (p.j.j.p.versteeg@uva.nl). The subject line of your email should be \"lab\\#\\_lastname1\\_lastname2\\_lastname3\".\n",
    "* Put your and your teammates' names in the body of the email\n",
    "* Attach the .IPYNB (IPython Notebook) file containing your code and answers. Naming of the file follows the same rule as the subject line. For example, if the subject line is \"lab01\\_Kingma\\_Hu\", the attached file should be \"lab01\\_Kingma\\_Hu.ipynb\". Only use underscores (\"\\_\") to connect names, otherwise the files cannot be parsed.\n",
    "\n",
    "Notes on implementation:\n",
    "\n",
    "* For this notebook you need to answer a few theory questions, add them in the Markdown cell's below the question. Note: you can use Latex-style code in here.\n",
    "* Focus on Part 1 the first week, and Part 2 the second week!\n",
    "* You should write your code and answers below the questions in this IPython Notebook.\n",
    "* Among the first lines of your notebook should be \"%pylab inline\". This imports all required modules, and your plots will appear inline.\n",
    "* If you have questions outside of the labs, post them on blackboard or email me.\n",
    "* NOTE: Make sure we can run your notebook / scripts!\n",
    "\n",
    "$\\newcommand{\\bx}{\\mathbf{x}}$\n",
    "$\\newcommand{\\bw}{\\mathbf{w}}$\n",
    "$\\newcommand{\\bt}{\\mathbf{t}}$\n",
    "$\\newcommand{\\by}{\\mathbf{y}}$\n",
    "$\\newcommand{\\bm}{\\mathbf{m}}$\n",
    "$\\newcommand{\\bb}{\\mathbf{b}}$\n",
    "$\\newcommand{\\bS}{\\mathbf{S}}$\n",
    "$\\newcommand{\\ba}{\\mathbf{a}}$\n",
    "$\\newcommand{\\bz}{\\mathbf{z}}$\n",
    "$\\newcommand{\\bv}{\\mathbf{v}}$\n",
    "$\\newcommand{\\bq}{\\mathbf{q}}$\n",
    "$\\newcommand{\\bp}{\\mathbf{p}}$\n",
    "$\\newcommand{\\bh}{\\mathbf{h}}$\n",
    "$\\newcommand{\\bI}{\\mathbf{I}}$\n",
    "$\\newcommand{\\bX}{\\mathbf{X}}$\n",
    "$\\newcommand{\\bT}{\\mathbf{T}}$\n",
    "$\\newcommand{\\bPhi}{\\mathbf{\\Phi}}$\n",
    "$\\newcommand{\\bW}{\\mathbf{W}}$\n",
    "$\\newcommand{\\bV}{\\mathbf{V}}$"
   ]
  },
  {
   "cell_type": "code",
   "execution_count": null,
   "metadata": {
    "collapsed": false
   },
   "outputs": [],
   "source": [
    "%pylab inline\n",
    "import gzip, cPickle\n",
    "from __future__ import division"
   ]
  },
  {
   "cell_type": "markdown",
   "metadata": {},
   "source": [
    "# Part 1. Multiclass logistic regression\n",
    "\n",
    "Scenario: you have a friend with one big problem: she's completely blind. You decided to help her: she has a special smartphone for blind people, and you are going to develop a mobile phone app that can do _machine vision_ using the mobile camera: converting a picture (from the camera) to the meaning of the image. You decide to start with an app that can read handwritten digits, i.e. convert an image of handwritten digits to text (e.g. it would enable her to read precious handwritten phone numbers).\n",
    "\n",
    "A key building block for such an app would be a function `predict_digit(x)` that returns the digit class of an image patch $\\bx$. Since hand-coding this function is highly non-trivial, you decide to solve this problem using machine learning, such that the internal parameters of this function are automatically learned using machine learning techniques.\n",
    "\n",
    "The dataset you're going to use for this is the MNIST handwritten digits dataset (`http://yann.lecun.com/exdb/mnist/`). You can load the data from `mnist.pkl.gz` we provided, using: "
   ]
  },
  {
   "cell_type": "code",
   "execution_count": null,
   "metadata": {
    "collapsed": false
   },
   "outputs": [],
   "source": [
    "def load_mnist():\n",
    "    f = gzip.open('mnist.pkl.gz', 'rb')\n",
    "    data = cPickle.load(f)\n",
    "    f.close()\n",
    "    return data\n",
    "\n",
    "(x_train, t_train), (x_valid, t_valid), (x_test, t_test) = load_mnist()"
   ]
  },
  {
   "cell_type": "markdown",
   "metadata": {},
   "source": [
    "The tuples represent train, validation and test sets. The first element (`x_train`, `x_valid`, `x_test`) of each tuple is a $N \\times M$ matrix, where $N$ is the number of datapoints and $M = 28^2 = 784$ is the dimensionality of the data. The second element (`t_train`, `t_valid`, `t_test`) of each tuple is the corresponding $N$-dimensional vector of integers, containing the true class labels.\n",
    "\n",
    "Here's a visualisation of the first 8 digits of the trainingset:"
   ]
  },
  {
   "cell_type": "code",
   "execution_count": null,
   "metadata": {
    "collapsed": false
   },
   "outputs": [],
   "source": [
    "def plot_digits(data, numcols, shape=(28,28)):\n",
    "    numdigits = data.shape[0]\n",
    "    numrows = int(ceil(float(numdigits)/numcols))\n",
    "    print numcols, numrows, numdigits\n",
    "    for i in range(numdigits):\n",
    "        plt.subplot(numrows, numcols, i)\n",
    "        plt.axis('off')\n",
    "        plt.imshow(data[i].reshape(shape), interpolation='nearest', cmap='Greys')\n",
    "    plt.show()\n",
    "    \n",
    "plot_digits(x_train[0:8], numcols=4)"
   ]
  },
  {
   "cell_type": "markdown",
   "metadata": {},
   "source": [
    "In _multiclass_ logistic regression, the conditional probability of class label $j$ given the image $\\bx$ for some datapoint is given by:\n",
    "\n",
    "$ \\log p(t = j \\;|\\; \\bx, \\bb, \\bW) = \\log q_j - \\log Z$\n",
    "\n",
    "where $\\log q_j = \\bw_j^T \\bx + b_j$ (the log of the unnormalized probability of the class $j$), and $Z = \\sum_k q_k$ is the normalizing factor. $\\bw_j$ is the $j$-th column of $\\bW$ (a matrix of size $784 \\times 10$) corresponding to the class label, $b_j$ is the $j$-th element of $\\bb$.\n",
    "\n",
    "Given an input image, the multiclass logistic regression model first computes the intermediate vector $\\log \\bq$ (of size $10 \\times 1$), using $\\log q_j = \\bw_j^T \\bx + b_j$, containing the unnormalized log-probabilities per class. \n",
    "\n",
    "The unnormalized probabilities are then normalized by $Z$ such that $\\sum_j p_j = \\sum_j \\exp(\\log p_j) = 1$. This is done by $\\log p_j = \\log q_j - \\log Z$ where $Z = \\sum_j \\exp(\\log q_j)$. This is known as the _softmax_ transformation, and is also used as a last layer of many classifcation neural network models, to ensure that the output of the network is a normalized distribution, regardless of the values of second-to-last layer ($\\log \\bq$)\n",
    "\n",
    "Warning: when computing $\\log Z$, you are likely to encounter numerical problems. Save yourself countless hours of debugging and learn the [log-sum-exp trick](https://hips.seas.harvard.edu/blog/2013/01/09/computing-log-sum-exp/ \"Title\").\n",
    "\n",
    "The network's output $\\log \\bp$ of size $10 \\times 1$ then contains the conditional log-probabilities $\\log p(t = j \\;|\\; \\bx, \\bb, \\bW)$ for each digit class $j$. In summary, the computations are done in this order:\n",
    "\n",
    "$\\bx \\rightarrow \\log \\bq \\rightarrow Z \\rightarrow \\log \\bp$\n",
    "\n",
    "Given some dataset with $N$ independent, identically distributed datapoints, the log-likelihood is given by:\n",
    "\n",
    "$ \\mathcal{L}(\\bb, \\bW) = \\sum_{n=1}^N \\mathcal{L}^{(n)}$\n",
    "\n",
    "where we use $\\mathcal{L}^{(n)}$ to denote the partial log-likelihood evaluated over a single datapoint. It is important to see that the log-probability of the class label $t^{(n)}$ given the image, is given by the $t^{(n)}$-th element of the network's output $\\log \\bp$, denoted by $\\log p_{t^{(n)}}$:\n",
    "\n",
    "$\\mathcal{L}^{(n)} = \\log p(t = t^{(n)} \\;|\\; \\bx = \\bx^{(n)}, \\bb, \\bW) = \\log p_{t^{(n)}} = \\log q_{t^{(n)}} - \\log Z^{(n)}$\n",
    "\n",
    "where $\\bx^{(n)}$ and $t^{(n)}$ are the input (image) and class label (integer) of the $n$-th datapoint, and $Z^{(n)}$ is the normalizing constant for the distribution over $t^{(n)}$.\n"
   ]
  },
  {
   "cell_type": "markdown",
   "metadata": {},
   "source": [
    "## 1.1 Gradient-based stochastic optimization\n",
    "\n",
    "### 1.1.1 Derive gradient equations (20 points)\n",
    "\n",
    "Derive the equations for computing the (first) partial derivatives of the log-likelihood w.r.t. all the parameters, evaluated at a _single_ datapoint $n$.\n",
    "\n",
    "You should start deriving the equations for $\\frac{\\partial \\mathcal{L}^{(n)}}{\\partial \\log q_j}$ for each $j$. For clarity, we'll use the shorthand $\\delta^q_j = \\frac{\\partial \\mathcal{L}^{(n)}}{\\partial \\log q_j}$.\n",
    "\n",
    "For $j = t^{(n)}$:\n",
    "$\n",
    "\\delta^q_j\n",
    "= \\frac{\\partial \\mathcal{L}^{(n)}}{\\partial \\log p_j}\n",
    "\\frac{\\partial \\log p_j}{\\partial \\log q_j}\n",
    "+ \\frac{\\partial \\mathcal{L}^{(n)}}{\\partial \\log Z}\n",
    "\\frac{\\partial \\log Z}{\\partial Z} \n",
    "\\frac{\\partial Z}{\\partial \\log q_j} \n",
    "= 1 \\cdot 1 - \\frac{\\partial \\log Z}{\\partial Z} \n",
    "\\frac{\\partial Z}{\\partial \\log q_j}\n",
    "= 1 - \\frac{\\partial \\log Z}{\\partial Z} \n",
    "\\frac{\\partial Z}{\\partial \\log q_j}\n",
    "$\n",
    "\n",
    "For $j \\neq t^{(n)}$:\n",
    "$\n",
    "\\delta^q_j\n",
    "= \\frac{\\partial \\mathcal{L}^{(n)}}{\\partial \\log Z}\n",
    "\\frac{\\partial \\log Z}{\\partial Z} \n",
    "\\frac{\\partial Z}{\\partial \\log q_j} \n",
    "= - \\frac{\\partial \\log Z}{\\partial Z} \n",
    "\\frac{\\partial Z}{\\partial \\log q_j}\n",
    "$\n",
    "\n",
    "Complete the above derivations for $\\delta^q_j$ by furtherly developing $\\frac{\\partial \\log Z}{\\partial Z}$ and $\\frac{\\partial Z}{\\partial \\log q_j}$. Both are quite simple. For these it doesn't matter whether $j = t^{(n)}$ or not.\n",
    "\n",
    "Given your equations for computing the gradients $\\delta^q_j$ it should be quite straightforward to derive the equations for the gradients of the parameters of the model, $\\frac{\\partial \\mathcal{L}^{(n)}}{\\partial W_{ij}}$ and $\\frac{\\partial \\mathcal{L}^{(n)}}{\\partial b_j}$. The gradients for the biases $\\bb$ are given by:\n",
    "\n",
    "$\n",
    "\\frac{\\partial \\mathcal{L}^{(n)}}{\\partial b_j}\n",
    "= \\frac{\\partial \\mathcal{L}^{(n)}}{\\partial \\log q_j}\n",
    "\\frac{\\partial \\log q_j}{\\partial b_j}\n",
    "= \\delta^q_j\n",
    "\\cdot 1\n",
    "= \\delta^q_j\n",
    "$\n",
    "\n",
    "The equation above gives the derivative of $\\mathcal{L}^{(n)}$ w.r.t. a single element of $\\bb$, so the vector $\\nabla_\\bb \\mathcal{L}^{(n)}$ with all derivatives of $\\mathcal{L}^{(n)}$ w.r.t. the bias parameters $\\bb$ is: \n",
    "\n",
    "$\n",
    "\\nabla_\\bb \\mathcal{L}^{(n)} = \\mathbf{\\delta}^q\n",
    "$\n",
    "\n",
    "where $\\mathbf{\\delta}^q$ denotes the vector of size $10 \\times 1$ with elements $\\mathbf{\\delta}_j^q$.\n",
    "\n",
    "The (not fully developed) equation for computing the derivative of $\\mathcal{L}^{(n)}$ w.r.t. a single element $W_{ij}$ of $\\bW$ is:\n",
    "\n",
    "$\n",
    "\\frac{\\partial \\mathcal{L}^{(n)}}{\\partial W_{ij}} =\n",
    "\\frac{\\partial \\mathcal{L}^{(n)}}{\\partial \\log q_j}\n",
    "\\frac{\\partial \\log q_j}{\\partial W_{ij}}\n",
    "= \\mathbf{\\delta}_j^q\n",
    "\\frac{\\partial \\log q_j}{\\partial W_{ij}}\n",
    "$\n",
    "\n",
    "What is $\\frac{\\partial \\log q_j}{\\partial W_{ij}}$? Complete the equation above.\n",
    "\n",
    "If you want, you can give the resulting equation in vector format ($\\nabla_{\\bw_j} \\mathcal{L}^{(n)} = ...$), like we did for $\\nabla_\\bb \\mathcal{L}^{(n)}$.\n",
    "\n",
    "#####Answer: "
   ]
  },
  {
   "cell_type": "markdown",
   "metadata": {},
   "source": [
    "\\begin{align*}\n",
    "\\frac{\\partial \\log Z}{\\partial Z} &= 1/Z\\\\\n",
    "\\frac{\\partial Z}{\\partial \\log q_j} &= q_j\n",
    "\\end{align*}\n",
    "\n",
    "We get $\\frac{\\partial \\log q_j}{ \\partial W_{ij}} = x_i$ so we get\n",
    "\n",
    "\\begin{align*}\n",
    "j=t(n): \\; \\frac{\\partial L^{(n)}}{\\partial W_{ij}}&=x_i-\\frac{q_j x_i}{Z}\\\\\n",
    "j\\neq t(n): \\; \\frac{\\partial L^{(n)}}{\\partial W_{ij}}&=\\frac{-q_j x_i}{Z}\n",
    "\\end{align*}\n",
    "Alternatively:\n",
    "$$\n",
    "\\nabla_{w_j} L^{(n)} = \\delta^q_j x\n",
    "$$"
   ]
  },
  {
   "cell_type": "markdown",
   "metadata": {},
   "source": [
    "### 1.1.2 Implement gradient computations (10 points)\n",
    "\n",
    "Implement the gradient calculations you derived in the previous question. Write a function `logreg_gradient(x, t, w, b)` that returns the gradients $\\nabla_{\\bw_j} \\mathcal{L}^{(n)}$ (for each $j$) and $\\nabla_{\\bb} \\mathcal{L}^{(n)}$, i.e. the first partial derivatives of the log-likelihood w.r.t. the parameters $\\bW$ and $\\bb$, evaluated at a single datapoint (`x`, `t`).\n",
    "The computation will contain roughly the following intermediate variables:\n",
    "\n",
    "$\n",
    "\\log \\bq \\rightarrow Z \\rightarrow \\log \\bp\\,,\\, \\mathbf{\\delta}^q\n",
    "$\n",
    "\n",
    "followed by computation of the gradient vectors $\\nabla_{\\bw_j} \\mathcal{L}^{(n)}$ (contained in a $784 \\times 10$ matrix) and $\\nabla_{\\bb} \\mathcal{L}^{(n)}$ (a $10 \\times 1$ vector).\n"
   ]
  },
  {
   "cell_type": "code",
   "execution_count": null,
   "metadata": {
    "collapsed": false
   },
   "outputs": [],
   "source": [
    "def logreg_gradient(x, t, w, b):\n",
    "    \"\"\"\n",
    "    Returns the gradients of L with respect to all $w_j$ and $b$.\n",
    "    - x (784 x 1)\n",
    "    - t (10 x 1)\n",
    "    - w (784 x 10)\n",
    "    - b (10 x 1)\n",
    "    \"\"\"    \n",
    "    # Vector with all log q's\n",
    "    log_Q = w.T.dot(x) + b\n",
    "    \n",
    "    # Variation on the log-sum-exp trick:\n",
    "    # exp(-a) exp(log_Q)           exp(log_Q - a)\n",
    "    # ———————————————————————   =  ——————————————\n",
    "    # exp(-a) sum(exp(log_Q))      sum(exp(log_Q - a))\n",
    "    #\n",
    "    a = np.max(log_Q)\n",
    "    deltas = -exp(log_Q - a) / sum(exp(log_Q - a, dtype=np.longdouble))\n",
    "    deltas[t] = 1 + deltas[t] # the case t_n = j\n",
    "    grad_b = deltas\n",
    "    \n",
    "    grad_w = np.zeros([784,10])\n",
    "    for j in range(10):\n",
    "        grad_w[:,j] = deltas[j]*x\n",
    "\n",
    "    return (grad_w, grad_b)"
   ]
  },
  {
   "cell_type": "markdown",
   "metadata": {},
   "source": [
    "\n",
    "\n",
    "\n",
    "### 1.1.3 Stochastic gradient descent (10 points)\n",
    "\n",
    "Write a function `sgd_iter(x_train, t_train, w, b)` that performs one iteration of stochastic gradient descent (SGD), and returns the new weights. It should go through the trainingset once in randomized order, call `logreg_gradient(x, t, w, b)` for each datapoint to get the gradients, and update the parameters using a small learning rate (e.g. `1E-4`). Note that in this case we're maximizing the likelihood function, so we should actually performing gradient ___ascent___... For more information about SGD, see Bishop 5.2.4 or an online source (i.e. https://en.wikipedia.org/wiki/Stochastic_gradient_descent)"
   ]
  },
  {
   "cell_type": "code",
   "execution_count": null,
   "metadata": {
    "collapsed": false
   },
   "outputs": [],
   "source": [
    "def sgd_iter( x_train, t_train, w, b):\n",
    "\n",
    "    # Learning rate\n",
    "    eta = 1e-4\n",
    "    \n",
    "    indices = arange(len(x_train))\n",
    "    random.shuffle(indices)\n",
    "    for n in indices:\n",
    "        grad_w, grad_b = logreg_gradient( x_train[n], t_train[n], w, b)\n",
    "        b = b + eta * grad_b\n",
    "        w = w + eta * grad_w\n",
    "    \n",
    "    return w, b"
   ]
  },
  {
   "cell_type": "markdown",
   "metadata": {},
   "source": [
    "## 1.2. Train\n",
    "\n",
    "### 1.2.1 Train (10 points)\n",
    "Perform a handful of training iterations through the trainingset. Plot (in one graph) the conditional log-probability of the trainingset and validation set after each iteration.\n"
   ]
  },
  {
   "cell_type": "code",
   "execution_count": null,
   "metadata": {
    "collapsed": false
   },
   "outputs": [],
   "source": [
    "def data_likelihood(X, T, w, b):\n",
    "    \n",
    "    N = X.shape[0]\n",
    "\n",
    "    # Vector with all log_q's \n",
    "    log_Q = X.dot(w) + b\n",
    "\n",
    "    # Log likelihoods of the training data\n",
    "    log_Q_T = log_Q[arange(N), T]\n",
    "\n",
    "    # Maximum element from every row of log_Q\n",
    "    # but repeated 10 times to be able to substract it from log_Q\n",
    "    max_indices = np.argmax(log_Q, axis=1)\n",
    "    max_Qs = (log_Q[arange(N), max_indices]).repeat(10).reshape(N,10)\n",
    "    log_Z = log_Q[arange(N), max_indices] + sum(exp(log_Q - max_Qs), axis=1)\n",
    "\n",
    "    return sum(log_Q_T - log_Z)"
   ]
  },
  {
   "cell_type": "code",
   "execution_count": null,
   "metadata": {
    "collapsed": false
   },
   "outputs": [],
   "source": [
    "w = np.random.randn(784, 10)\n",
    "b = np.random.randn(10)\n",
    "num_iterations = 20\n",
    "Lvec_train = np.zeros(num_iterations)\n",
    "Lvec_valid = np.zeros(num_iterations)\n",
    "\n",
    "for i in range(num_iterations):\n",
    "    print i\n",
    "    \n",
    "    w, b = sgd_iter( x_train, t_train, w, b)\n",
    "    \n",
    "    L_train = data_likelihood(x_train, t_train, w, b) \n",
    "    L_valid = data_likelihood(x_valid, t_valid, w, b)\n",
    "    \n",
    "    Lvec_train[i] = L_train\n",
    "    Lvec_valid[i] = L_valid\n",
    "    \n",
    "plot(range(num_iterations),Lvec_train)\n",
    "plot(range(num_iterations),Lvec_valid)\n",
    "show()"
   ]
  },
  {
   "cell_type": "markdown",
   "metadata": {},
   "source": [
    "### 1.2.2 Visualize weights (10 points)\n",
    "Visualize the resulting parameters $\\bW$ after a few iterations through the training set, by treating each column of $\\bW$ as an image. If you want, you can use or edit the `plot_digits(...)` above."
   ]
  },
  {
   "cell_type": "code",
   "execution_count": null,
   "metadata": {
    "collapsed": false
   },
   "outputs": [],
   "source": [
    "plot_digits( w.T, 5)"
   ]
  },
  {
   "cell_type": "markdown",
   "metadata": {},
   "source": [
    "### 1.2.3. Visualize the 8 hardest and 8 easiest digits (10 points)\n",
    "Visualize the 8 digits in the validation set with the highest probability of the true class label under the model.\n",
    "Also plot the 8 digits that were assigned the lowest probability.\n",
    "Ask yourself if these results make sense."
   ]
  },
  {
   "cell_type": "code",
   "execution_count": null,
   "metadata": {
    "collapsed": false
   },
   "outputs": [],
   "source": [
    "L_n_valid = zeros(len(x_valid))\n",
    "\n",
    "for n in range(len(x_valid)):\n",
    "    log_qs = np.dot(w.T, x_valid[n]) + b\n",
    "    kmax = np.argmax(log_qs)\n",
    "    log_q_tn = log_qs[t_valid[n]]\n",
    "    log_Z = log_qs[kmax] + np.sum(np.exp(log_qs - log_qs[kmax]))\n",
    "    L_n_valid[n] = log_q_tn - log_Z\n",
    "\n",
    "easiest = L_n_valid.argsort()[-8:][::-1]\n",
    "hardest = L_n_valid.argsort()[:8]\n",
    "\n",
    "plot_digits(x_valid[easiest], numcols=4)\n",
    "plot_digits(x_valid[hardest], numcols=4)"
   ]
  },
  {
   "cell_type": "markdown",
   "metadata": {},
   "source": [
    "# Part 2. Multilayer perceptron\n",
    "\n",
    "\n",
    "You discover that the predictions by the logistic regression classifier are not good enough for your application: the model is too simple. You want to increase the accuracy of your predictions by using a better model. For this purpose, you're going to use a multilayer perceptron (MLP), a simple kind of neural network. The perceptron wil have a single hidden layer $\\bh$ with $L$ elements. The parameters of the model are $\\bV$ (connections between input $\\bx$ and hidden layer $\\bh$), $\\ba$ (the biases/intercepts of $\\bh$), $\\bW$ (connections between $\\bh$ and $\\log q$) and $\\bb$ (the biases/intercepts of $\\log q$.\n",
    "\n",
    "The conditional probability of the class label $j$ is given by:\n",
    "\n",
    "$\\log p(t = j \\;|\\; \\bx, \\bb, \\bW) = \\log q_j - \\log Z$\n",
    "\n",
    "where $q_j$ are again the unnormalized probabilities per class, and $Z = \\sum_j q_j$ is again the probability normalizing factor. Each $q_j$ is computed using:\n",
    "\n",
    "$\\log q_j = \\bw_j^T \\bh + b_j$\n",
    "\n",
    "where $\\bh$ is a $L \\times 1$ vector with the hidden layer activations (of a hidden layer with size $L$), and $\\bw_j$ is the $j$-th column of $\\bW$ (a $L \\times 10$ matrix). Each element of the hidden layer is computed from the input vector $\\bx$ using:\n",
    "\n",
    "$h_j = \\sigma(\\bv_j^T \\bx + a_j)$\n",
    "\n",
    "where $\\bv_j$ is the $j$-th column of $\\bV$ (a $784 \\times L$ matrix), $a_j$ is the $j$-th element of $\\ba$, and $\\sigma(.)$ is the so-called sigmoid activation function, defined by:\n",
    "\n",
    "$\\sigma(x) = \\frac{1}{1 + \\exp(-x)}$\n",
    "\n",
    "Note that this model is almost equal to the multiclass logistic regression model, but with an extra 'hidden layer' $\\bh$. The activations of this hidden layer can be viewed as features computed from the input, where the feature transformation ($\\bV$ and $\\ba$) is learned.\n",
    "\n",
    "## 2.1 Derive gradient equations (20 points)\n",
    "\n",
    "State (shortly) why $\\nabla_{\\bb} \\mathcal{L}^{(n)}$ is equal to the earlier (multiclass logistic regression) case, and why $\\nabla_{\\bw_j} \\mathcal{L}^{(n)}$ is almost equal to the earlier case.\n",
    "\n",
    "Like in multiclass logistic regression, you should use intermediate variables $\\mathbf{\\delta}_j^q$. In addition, you should use intermediate variables $\\mathbf{\\delta}_j^h = \\frac{\\partial \\mathcal{L}^{(n)}}{\\partial h_j}$.\n",
    "\n",
    "Given an input image, roughly the following intermediate variables should be computed:\n",
    "\n",
    "$\n",
    "\\log \\bq \\rightarrow Z \\rightarrow \\log \\bp \\rightarrow \\mathbf{\\delta}^q \\rightarrow \\mathbf{\\delta}^h\n",
    "$\n",
    "\n",
    "where $\\mathbf{\\delta}_j^h = \\frac{\\partial \\mathcal{L}^{(n)}}{\\partial \\bh_j}$.\n",
    "\n",
    "Give the equations for computing $\\mathbf{\\delta}^h$, and for computing the derivatives of $\\mathcal{L}^{(n)}$ w.r.t. $\\bW$, $\\bb$, $\\bV$ and $\\ba$. \n",
    "\n",
    "You can use the convenient fact that $\\frac{\\partial}{\\partial x} \\sigma(x) = \\sigma(x) (1 - \\sigma(x))$.\n",
    "\n",
    "#####Answer: "
   ]
  },
  {
   "cell_type": "markdown",
   "metadata": {},
   "source": [
    "Well, the derivation of $\\nabla_{\\mathbf v} \\mathcal{L}^{(n)}$ remains exactly the same since $\\frac{\\partial \\log q_i}{\\partial b_i} = 1$:\n",
    "\\begin{align}\n",
    "\\nabla_{{\\bf b}}\\mathcal{L}^{(n)} = \\delta^q\n",
    "\\end{align}\n",
    "\n",
    "For $\\nabla_{{\\bf w}_j} \\mathcal{L}^{(n)}$, things are slightly different,\n",
    "\\begin{align}\n",
    "\\frac{\\partial \\mathcal{L}^{(n)}}{\\partial W_{ij}} \n",
    "\t&= \\frac{\\partial \\mathcal{L}^{(n)}}{\\partial \\log q_j} \\frac{\\partial \\log q_j}{\\partial W_{ij}}\n",
    "\t= \\delta_j^q \\cdot \\frac{\\partial}{\\partial W_{ij}} ({\\bf w}_j^T {\\bf h} + b_j)\n",
    "\t= \\delta_j^q \\cdot h_i.\n",
    "\\end{align}\n",
    "Hence\n",
    "\\begin{align}\n",
    "\t\\nabla_{{\\bf w}_j} \\mathcal{L}^{(n)} = \\delta_j^q \\cdot {\\bf h},\n",
    "\\end{align}\n",
    "and the only difference with the former case is that we replaced ${\\bf x}$ by $\\bf h$.\n",
    "\n",
    "--------\n",
    "The derivation of $\\delta^h$ is even trickier:\n",
    "\\begin{align}\n",
    "\\delta^h_j \n",
    "\t&= \\frac{\\partial{\\mathcal{L}^{(n)}}}{\\partial h_j}\n",
    "\t= \\frac{\\partial}{\\partial h_j} \\log q_k - \\log Z \\\\\n",
    "\t&= \\frac{\\partial}{\\partial h_j} {\\bf w}_k^T {\\bf h} + b_k \n",
    "\t\t- \\frac{1}{Z} \\sum_i \\frac{\\partial}{\\partial h_j} \\exp \\log q_i \\\\\n",
    "\t&= W_{jk} - \\frac{1}{Z} \\sum_i q_i \\frac{\\partial}{\\partial h_j} \\log q_i \\\\\n",
    "\t&= W_{jk} - \\frac{1}{Z} \\sum_i q_i W_{ji}\n",
    "\\end{align}\n",
    "\n",
    "That gives\n",
    "$\n",
    "\t\\delta^h = {\\bf w}^k - \\frac{1}{Z} {\\bf W} \\bf{q}\n",
    "$\n",
    "\n",
    "\n",
    "\\begin{align}\n",
    "\\frac{\\partial \\mathcal L^{(n)}}{\\partial a_j}\n",
    "    &= \\frac{\\partial \\mathcal L^{(n)}}{\\partial h_j} \\frac{\\partial h_j}{\\partial a_j}\\\\\n",
    "    &= \\delta_j^h  \\cdot \\sigma'(\\hat h_j) \\cdot  \\frac{\\partial}{\\partial a_j} ({\\bf v}_j^T{\\bf x} + a_j)\\\\\n",
    "    &= \\delta_j^h  \\cdot \\sigma'(\\hat h_j)\n",
    "\\end{align}\n",
    "\n",
    "Hence\n",
    "\\begin{align}\n",
    "\\nabla_{\\bf a} \\mathcal L^{(n)} \n",
    "    = \\Bigl(\\delta_1^h \\; \\sigma'(\\hat h_1), \n",
    "    \\quad \\delta_2^h \\; \\sigma'(\\hat h_2), \\; \\dots\\Bigr)^T \n",
    "\\end{align}\n",
    "\n",
    "Some more abbreviations:\n",
    "\\begin{align}\n",
    "\\hat h_j := {\\bf v}_j^T {\\bf x} + a_j, \n",
    "\\qquad \\text{and} \\qquad \\sigma'(x) := \\frac{\\partial}{\\partial x}\\sigma(x) = \\sigma(x)(1-\\sigma(x))\n",
    "\\end{align}\n",
    "With these definitions $h_j = \\sigma(\\hat h_j)$ and we get\n",
    "\\begin{align}\n",
    "\\frac{\\partial \\mathcal L^{(n)}}{\\partial V_{ij}}\n",
    "\t&= \\frac{\\partial \\mathcal L^{(n)}}{\\partial h_j} \\frac{\\partial}{\\partial V_{ij}} \\sigma( \\hat h_j)\\\\\n",
    "\t&= \\delta_j^h \\cdot \\sigma'(\\hat h_j) \\cdot \\frac{\\partial}{\\partial V_{ij}} ( {\\bf v}_j^T {\\bf x} + a_j )\\\\\n",
    "\t&= \\delta_j^h \\cdot \\sigma'(\\hat h_j) \\cdot x_i\n",
    "\\end{align}\n",
    "Hence\n",
    "\\begin{align}\n",
    "\t\\nabla_{{\\bf v}_j} \\mathcal L^{(n)} \n",
    "    = \\delta_j^h \\cdot \\sigma(\\hat h_j)(1-\\sigma(\\hat h_j)) \\cdot {\\bf x}\n",
    "\\end{align}"
   ]
  },
  {
   "cell_type": "markdown",
   "metadata": {},
   "source": [
    "## 2.2 MAP optimization (10 points)\n",
    "\n",
    "You derived equations for finding the _maximum likelihood_ solution of the parameters. Explain, in a few sentences, how you could extend this approach so that it optimizes towards a _maximum a posteriori_ (MAP) solution of the parameters, with a Gaussian prior on the parameters. \n",
    "\n",
    "#####Answer: "
   ]
  },
  {
   "cell_type": "markdown",
   "metadata": {},
   "source": [
    "If we placed a Gaussian prior on the parameters, we could look for the optimal parameters by optimising the posterior distribution\n",
    "\\begin{align}\n",
    "p(\\theta | D) \\propto p(t = j | {\\bf x}, \\theta) \\cdot p(\\theta | D)\n",
    "\\end{align}\n",
    "The latter distribution would be a normal distribution, depending on some hyperparameters. If we were to work out the details we would have for the log likelihood\n",
    "\\begin{align}\n",
    "\\log p_j = \\log q_j - \\log Z + \\log q(\\theta |D).\n",
    "\\end{align}"
   ]
  },
  {
   "cell_type": "markdown",
   "metadata": {},
   "source": [
    "## 2.3. Implement and train a MLP (15 points)\n",
    "\n",
    "Implement a MLP model with a single hidden layer, and code to train the model."
   ]
  },
  {
   "cell_type": "code",
   "execution_count": null,
   "metadata": {
    "collapsed": true
   },
   "outputs": [],
   "source": [
    "def sigmoid(x):\n",
    "      return 1/(1+exp(-x, dtype=np.longdouble))"
   ]
  },
  {
   "cell_type": "code",
   "execution_count": null,
   "metadata": {
    "collapsed": false
   },
   "outputs": [],
   "source": [
    "def mlp(X,T,v,a,w,b):\n",
    "    N = X.shape[0]\n",
    "    \n",
    "    # Compute hidden layer activations\n",
    "    h = 1/(1+exp(-(X.dot(v)+a)))\n",
    "    \n",
    "    # Matrix with all log-likelihoods\n",
    "    log_Q = h.dot(w)+b\n",
    "    \n",
    "    # Log-likelihoods of the training data\n",
    "    log_Q_T = log_Q[arange(N), T]\n",
    "    \n",
    "    # Maximum element from every row of log_Q\n",
    "    # but repeated 10 times to be able to substract it from log_Q\n",
    "    max_indices = np.argmax(log_Q, axis=1)\n",
    "    max_Qs = (log_Q[arange(N), max_indices]).repeat(10).reshape(N,10)\n",
    "    log_Z = log_Q[arange(N), max_indices] + sum(exp(log_Q - max_Qs), axis=1)\n",
    "    \n",
    "    return sum(log_Q_T - log_Z)\n",
    "\n",
    "def mlp_gradient(x,t,v,a,w,b):\n",
    "    \"\"\"\n",
    "    Returns the gradients of L with respect to $v$, $a$, $w$ and $b$.\n",
    "    - x (784 x 1)\n",
    "    - t (10 x 1)\n",
    "    - v (784 x L)\n",
    "    - a (L x 1)\n",
    "    - w (L x 10)\n",
    "    - b (10 x 1)\n",
    "    \"\"\"\n",
    "    l = w.shape[0]\n",
    "    # Compute hidden layer activations\n",
    "    h = sigmoid(v.T.dot(x)+a)\n",
    "    # Very weird bug, sometime h returns as (L,)-array, sometimes as (1,L)-matrix, workaround\n",
    "    h =  matrix(h).A1\n",
    "    # Matrix with all log-likelihoods\n",
    "    log_Q = w.T.dot(h)+b\n",
    "    \n",
    "    A = log_Q[ argmax(log_Q) ]\n",
    "    deltaqs = -exp(log_Q - A)/sum(exp(log_Q - A, dtype=np.longdouble))\n",
    "    deltaqs[t] = 1+deltaqs[t] # the case t_n = j\n",
    "    grad_b = deltaqs\n",
    "    \n",
    "    grad_w = np.zeros([l,10])\n",
    "    for j in range(10):\n",
    "        grad_w[:,j] = deltaqs[j]*h\n",
    "\n",
    "    # this is not correct, but not enough time to implement correct delta\n",
    "    deltahs = deltaqs.dot(w.T)\n",
    "    # sigmoid' = sigmoid*(1-sigmoid)\n",
    "    grad_a = deltahs*sigmoid(h)*(1-sigmoid(h))\n",
    "    grad_v = matrix(x).T.dot(matrix(grad_a))\n",
    "    \n",
    "    # Cast a and b back to array before returning\n",
    "    return (grad_v,grad_a,grad_w,grad_b)\n",
    "\n",
    "def mlp_train(x,t,v,a,w,b):\n",
    "    # Learning rate\n",
    "    eta = 1e-4\n",
    "    \n",
    "    indices = arange(len(x_train))\n",
    "    random.shuffle(indices)\n",
    "    for n in indices:\n",
    "        grad_v,grad_a,grad_w,grad_b = mlp_gradient(x[n],t[n],v,a,w,b)\n",
    "        v = v + eta * grad_v\n",
    "        a = a + eta * grad_a\n",
    "        w = w + eta * grad_w\n",
    "        b = b + eta * grad_b\n",
    "    \n",
    "    return v, a, w, b\n",
    "\n",
    "def mlp_ratio_misclass(X,T,v,a,w,b):\n",
    "    N = len(T)\n",
    "    # Compute hidden layer activations\n",
    "    h = sigmoid(X.dot(v)+a)\n",
    "    # Vector with all log-likelihoods\n",
    "    log_Q = h.dot(w)+b\n",
    "    return (N-sum(argmax(log_Q,1).A1 == T))/N"
   ]
  },
  {
   "cell_type": "markdown",
   "metadata": {},
   "source": [
    "### 2.3.1. Less than 250 misclassifications on the test set (10 bonus points)\n",
    "\n",
    "You receive an additional 10 bonus points if you manage to train a model with very high accuracy: at most 2.5% misclasified digits on the test set. Note that the test set contains 10000 digits, so you model should misclassify at most 250 digits. This should be achievable with a MLP model with one hidden layer. See results of various models at : `http://yann.lecun.com/exdb/mnist/index.html`. To reach such a low accuracy, you probably need to have a very high $L$ (many hidden units), probably $L > 200$, and apply a strong Gaussian prior on the weights. In this case you are allowed to use the validation set for training.\n",
    "You are allowed to add additional layers, and use convolutional networks, although that is probably not required to reach 2.5% misclassifications."
   ]
  },
  {
   "cell_type": "code",
   "execution_count": null,
   "metadata": {
    "collapsed": false
   },
   "outputs": [],
   "source": [
    "l = 200\n",
    "V = np.random.randn(784,l)\n",
    "a = np.random.randn(l)\n",
    "W = np.random.randn(l,10)\n",
    "b = np.random.randn(10)\n",
    "\n",
    "misclass = 1\n",
    "while misclass > 0.024:\n",
    "    V,a,W,b = mlp_train(x_train,t_train,V,a,W,b)\n",
    "    misclass = mlp_ratio_misclass(x_valid,t_valid,V,a,W,b)\n",
    "    print misclass\n",
    "# Calculation takes ages, does improve but very slooowwww...\n",
    "\n",
    "print mlp_ratio_misclass(x_test,t_test,V,a,W,b)"
   ]
  }
 ],
 "metadata": {
  "kernelspec": {
   "display_name": "Python 2",
   "language": "python",
   "name": "python2"
  },
  "language_info": {
   "codemirror_mode": {
    "name": "ipython",
    "version": 2
   },
   "file_extension": ".py",
   "mimetype": "text/x-python",
   "name": "python",
   "nbconvert_exporter": "python",
   "pygments_lexer": "ipython2",
   "version": "2.7.10"
  }
 },
 "nbformat": 4,
 "nbformat_minor": 0
}
